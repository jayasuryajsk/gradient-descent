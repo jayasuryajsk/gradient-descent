{
 "cells": [
  {
   "cell_type": "code",
   "execution_count": 9,
   "metadata": {},
   "outputs": [],
   "source": [
    "from numpy import *\n"
   ]
  },
  {
   "cell_type": "code",
   "execution_count": 10,
   "metadata": {},
   "outputs": [],
   "source": [
    "#y=mx+c\n",
    "def compute_error(m,c,points):\n",
    "    totalError=0\n",
    "    for i in range(0, len(points)):\n",
    "        x = points[i,0]\n",
    "        y = points[i,1]\n",
    "        totalError += (y - (m * x + c)) ** 2\n",
    "    return totalError / float(len(points))"
   ]
  },
  {
   "cell_type": "code",
   "execution_count": 11,
   "metadata": {},
   "outputs": [],
   "source": [
    "def step_gradient(c_curr,m_curr,points,learning_rate):\n",
    "    c_gradient=0\n",
    "    m_gradient=0\n",
    "    N = float(len(points))\n",
    "    for i in range(0,len(points)):\n",
    "        x = points[i,0]\n",
    "        y = points[i,1]\n",
    "        c_gradient += -(2/N) * (y - ((m_curr * x) + c_curr))\n",
    "        m_gradient += -(2/N) * x * (y - ((m_curr * x) + c_curr))\n",
    "    new_c = c_curr - (learning_rate * c_gradient)\n",
    "    new_m = m_curr - (learning_rate * m_gradient)\n",
    "    return [new_c, new_m]"
   ]
  },
  {
   "cell_type": "code",
   "execution_count": 12,
   "metadata": {},
   "outputs": [],
   "source": [
    "def grad_desc(points, starting_c,starting_m,learning_rate,num_iterations):\n",
    "    c = starting_c\n",
    "    m = starting_m\n",
    "    for i in range(num_iterations):\n",
    "        c,m = step_gradient(c,m, array(points) , learning_rate)\n",
    "    return [c,m]"
   ]
  },
  {
   "cell_type": "code",
   "execution_count": 19,
   "metadata": {},
   "outputs": [
    {
     "name": "stdout",
     "output_type": "stream",
     "text": [
      "starting gradient descent at c = 0, m = 0,error=5565.107834483211\n",
      "running....\n",
      "After 1000 iterations c = 0.08893651993741346,m = 1.4777440851894448, error = 4729.37081655537\n"
     ]
    }
   ],
   "source": [
    "def run():\n",
    "    points = genfromtxt('data.csv',delimiter=\",\")\n",
    "    learning_rate = 0.0001\n",
    "    initial_c = 0\n",
    "    inital_m = 0\n",
    "    num_iterations = 1000\n",
    "    print(\"starting gradient descent at c = {0}, m = {1},error={2}\".format(initial_c,inital_m, compute_error(initial_c, inital_m , points)))\n",
    "    print(\"running....\")\n",
    "    [c,m] = grad_desc(points, initial_c, inital_m, learning_rate,num_iterations)\n",
    "    print(\"After {0} iterations c = {1},m = {2}, error = {3}\".format(num_iterations,c,m,compute_error(c, m ,points)))\n",
    "    \n",
    "\n",
    "if __name__ == '__main__':\n",
    "    run()\n",
    "    "
   ]
  },
  {
   "cell_type": "code",
   "execution_count": null,
   "metadata": {},
   "outputs": [],
   "source": []
  }
 ],
 "metadata": {
  "kernelspec": {
   "display_name": "Python 3",
   "language": "python",
   "name": "python3"
  },
  "language_info": {
   "codemirror_mode": {
    "name": "ipython",
    "version": 3
   },
   "file_extension": ".py",
   "mimetype": "text/x-python",
   "name": "python",
   "nbconvert_exporter": "python",
   "pygments_lexer": "ipython3",
   "version": "3.6.5"
  }
 },
 "nbformat": 4,
 "nbformat_minor": 2
}
